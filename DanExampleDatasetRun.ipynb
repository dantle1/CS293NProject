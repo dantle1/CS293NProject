{
  "nbformat": 4,
  "nbformat_minor": 0,
  "metadata": {
    "colab": {
      "provenance": []
    },
    "kernelspec": {
      "name": "python3",
      "display_name": "Python 3"
    },
    "language_info": {
      "name": "python"
    }
  },
  "cells": [
    {
      "cell_type": "code",
      "execution_count": 1,
      "metadata": {
        "colab": {
          "base_uri": "https://localhost:8080/"
        },
        "id": "JHEvjqsTYRoh",
        "outputId": "23f98f28-12d4-4010-c4d1-6f6b088d417e"
      },
      "outputs": [
        {
          "output_type": "stream",
          "name": "stdout",
          "text": [
            "Cloning into 'CS293NProject'...\n",
            "remote: Enumerating objects: 84, done.\u001b[K\n",
            "remote: Counting objects: 100% (84/84), done.\u001b[K\n",
            "remote: Compressing objects: 100% (55/55), done.\u001b[K\n",
            "remote: Total 84 (delta 17), reused 71 (delta 16), pack-reused 0 (from 0)\u001b[K\n",
            "Receiving objects: 100% (84/84), 40.87 MiB | 14.98 MiB/s, done.\n",
            "Resolving deltas: 100% (17/17), done.\n"
          ]
        }
      ],
      "source": [
        "!git clone https://github.com/dantle1/CS293NProject.git\n"
      ]
    },
    {
      "cell_type": "code",
      "source": [
        "# TShark Packet Extraction Script for Google Colab (Filtered by IP)\n",
        "# Project: CS 293N - Raw Packet Filtering from PCAP\n",
        "\n",
        "import os\n",
        "import pandas as pd\n",
        "from datetime import datetime"
      ],
      "metadata": {
        "id": "lNmQV3tPMbeX"
      },
      "execution_count": 2,
      "outputs": []
    },
    {
      "cell_type": "code",
      "source": [
        "# Step 2: Install TShark\n",
        "!apt-get install -y tshark\n",
        "\n",
        "# === CONFIG ===\n",
        "PCAP_FILE = '/content/CS293NProject/puffer_6M_profile_on50_13/puffer_6M_profile_on50_13.pcap'\n",
        "FILTER_IP = '128.111.5.228'\n",
        "OUTPUT_FILE = '/content/filtered_packets_13.csv'"
      ],
      "metadata": {
        "colab": {
          "base_uri": "https://localhost:8080/"
        },
        "id": "QqWAFAHgMbmN",
        "outputId": "873b367d-8942-46da-ca19-9d0d210076ab"
      },
      "execution_count": 4,
      "outputs": [
        {
          "output_type": "stream",
          "name": "stdout",
          "text": [
            "Reading package lists... Done\n",
            "Building dependency tree... Done\n",
            "Reading state information... Done\n",
            "tshark is already the newest version (3.6.2-2).\n",
            "0 upgraded, 0 newly installed, 0 to remove and 35 not upgraded.\n"
          ]
        }
      ]
    },
    {
      "cell_type": "code",
      "source": [
        "# === STEP 3: Run TShark on single PCAP file ===\n",
        "!tshark -r \"{PCAP_FILE}\" -Y \"ip.src == {FILTER_IP}\" -T fields \\\n",
        "    -e frame.time_epoch -e ip.src -e ip.dst -e frame.len \\\n",
        "    -E header=n -E separator=, > {OUTPUT_FILE}\n",
        "\n",
        "print(\"✅ Packet filtering complete. Saved to:\", OUTPUT_FILE)"
      ],
      "metadata": {
        "colab": {
          "base_uri": "https://localhost:8080/"
        },
        "id": "bL9pVwO3MyBD",
        "outputId": "d98ef231-a5a9-4c01-b210-7d183bdc4218"
      },
      "execution_count": 5,
      "outputs": [
        {
          "output_type": "stream",
          "name": "stdout",
          "text": [
            "Running as user \"root\" and group \"root\". This could be dangerous.\n",
            "✅ Packet filtering complete. Saved to: /content/filtered_packets_13.csv\n"
          ]
        }
      ]
    },
    {
      "cell_type": "code",
      "source": [
        "# === STEP 4: Load and Convert TShark Output ===\n",
        "df = pd.read_csv(OUTPUT_FILE, header=None,\n",
        "                 names=['epoch', 'ip_src', 'ip_dst', 'length'])\n",
        "df['timestamp'] = pd.to_datetime(df['epoch'], unit='s', errors='coerce')\n",
        "\n",
        "print(\"\\n📊 Sample filtered packet data:\")\n",
        "print(df.head())"
      ],
      "metadata": {
        "colab": {
          "base_uri": "https://localhost:8080/"
        },
        "id": "sgD6RdbEMyEs",
        "outputId": "d581c1ab-36c0-47f6-f38c-b82feb0dda89"
      },
      "execution_count": 6,
      "outputs": [
        {
          "output_type": "stream",
          "name": "stdout",
          "text": [
            "\n",
            "📊 Sample filtered packet data:\n",
            "          epoch         ip_src        ip_dst  length  \\\n",
            "0  1.742585e+09  128.111.5.228  192.168.40.2      74   \n",
            "1  1.742585e+09  128.111.5.228  192.168.40.2      66   \n",
            "2  1.742585e+09  128.111.5.228  192.168.40.2      74   \n",
            "3  1.742585e+09  128.111.5.228  192.168.40.2      86   \n",
            "4  1.742585e+09  128.111.5.228  192.168.40.2     387   \n",
            "\n",
            "                      timestamp  \n",
            "0 2025-03-21 19:25:54.069990873  \n",
            "1 2025-03-21 19:25:54.080837965  \n",
            "2 2025-03-21 19:25:54.081504107  \n",
            "3 2025-03-21 19:25:54.082763910  \n",
            "4 2025-03-21 19:25:54.082923174  \n"
          ]
        }
      ]
    },
    {
      "cell_type": "code",
      "source": [
        "# Save the DataFrame to a file\n",
        "df.to_csv('filtered_packets_13.csv', index=False)\n",
        "\n",
        "# Trigger a download in the browser\n",
        "from google.colab import files\n",
        "files.download('filtered_packets_13.csv')\n"
      ],
      "metadata": {
        "id": "Ft2imDTuMyIW",
        "outputId": "36c2ae45-b1ab-4092-e1fb-dedc0e25988a",
        "colab": {
          "base_uri": "https://localhost:8080/",
          "height": 17
        }
      },
      "execution_count": 8,
      "outputs": [
        {
          "output_type": "display_data",
          "data": {
            "text/plain": [
              "<IPython.core.display.Javascript object>"
            ],
            "application/javascript": [
              "\n",
              "    async function download(id, filename, size) {\n",
              "      if (!google.colab.kernel.accessAllowed) {\n",
              "        return;\n",
              "      }\n",
              "      const div = document.createElement('div');\n",
              "      const label = document.createElement('label');\n",
              "      label.textContent = `Downloading \"${filename}\": `;\n",
              "      div.appendChild(label);\n",
              "      const progress = document.createElement('progress');\n",
              "      progress.max = size;\n",
              "      div.appendChild(progress);\n",
              "      document.body.appendChild(div);\n",
              "\n",
              "      const buffers = [];\n",
              "      let downloaded = 0;\n",
              "\n",
              "      const channel = await google.colab.kernel.comms.open(id);\n",
              "      // Send a message to notify the kernel that we're ready.\n",
              "      channel.send({})\n",
              "\n",
              "      for await (const message of channel.messages) {\n",
              "        // Send a message to notify the kernel that we're ready.\n",
              "        channel.send({})\n",
              "        if (message.buffers) {\n",
              "          for (const buffer of message.buffers) {\n",
              "            buffers.push(buffer);\n",
              "            downloaded += buffer.byteLength;\n",
              "            progress.value = downloaded;\n",
              "          }\n",
              "        }\n",
              "      }\n",
              "      const blob = new Blob(buffers, {type: 'application/binary'});\n",
              "      const a = document.createElement('a');\n",
              "      a.href = window.URL.createObjectURL(blob);\n",
              "      a.download = filename;\n",
              "      div.appendChild(a);\n",
              "      a.click();\n",
              "      div.remove();\n",
              "    }\n",
              "  "
            ]
          },
          "metadata": {}
        },
        {
          "output_type": "display_data",
          "data": {
            "text/plain": [
              "<IPython.core.display.Javascript object>"
            ],
            "application/javascript": [
              "download(\"download_9da91e08-50d5-48d6-a682-87fd155047af\", \"filtered_packets_13.csv\", 1159650)"
            ]
          },
          "metadata": {}
        }
      ]
    },
    {
      "cell_type": "code",
      "source": [
        "display((df['epoch']).head())"
      ],
      "metadata": {
        "id": "FDEgMNLlMbsY",
        "colab": {
          "base_uri": "https://localhost:8080/",
          "height": 241
        },
        "outputId": "cf123a7c-9433-4286-f4f3-409bb9fef505"
      },
      "execution_count": 10,
      "outputs": [
        {
          "output_type": "display_data",
          "data": {
            "text/plain": [
              "0    1.742585e+09\n",
              "1    1.742585e+09\n",
              "2    1.742585e+09\n",
              "3    1.742585e+09\n",
              "4    1.742585e+09\n",
              "Name: epoch, dtype: float64"
            ],
            "text/html": [
              "<div>\n",
              "<style scoped>\n",
              "    .dataframe tbody tr th:only-of-type {\n",
              "        vertical-align: middle;\n",
              "    }\n",
              "\n",
              "    .dataframe tbody tr th {\n",
              "        vertical-align: top;\n",
              "    }\n",
              "\n",
              "    .dataframe thead th {\n",
              "        text-align: right;\n",
              "    }\n",
              "</style>\n",
              "<table border=\"1\" class=\"dataframe\">\n",
              "  <thead>\n",
              "    <tr style=\"text-align: right;\">\n",
              "      <th></th>\n",
              "      <th>epoch</th>\n",
              "    </tr>\n",
              "  </thead>\n",
              "  <tbody>\n",
              "    <tr>\n",
              "      <th>0</th>\n",
              "      <td>1.742585e+09</td>\n",
              "    </tr>\n",
              "    <tr>\n",
              "      <th>1</th>\n",
              "      <td>1.742585e+09</td>\n",
              "    </tr>\n",
              "    <tr>\n",
              "      <th>2</th>\n",
              "      <td>1.742585e+09</td>\n",
              "    </tr>\n",
              "    <tr>\n",
              "      <th>3</th>\n",
              "      <td>1.742585e+09</td>\n",
              "    </tr>\n",
              "    <tr>\n",
              "      <th>4</th>\n",
              "      <td>1.742585e+09</td>\n",
              "    </tr>\n",
              "  </tbody>\n",
              "</table>\n",
              "</div><br><label><b>dtype:</b> float64</label>"
            ]
          },
          "metadata": {}
        }
      ]
    },
    {
      "cell_type": "code",
      "source": [
        "# convert timestamps (epochs in ms) to human readable time (datetime)\n",
        "df['datetime'] = df['timestamp'].apply(pd.to_datetime)"
      ],
      "metadata": {
        "id": "R0cZg0zPziue"
      },
      "execution_count": 19,
      "outputs": []
    },
    {
      "cell_type": "code",
      "source": [
        "print(\"Minimum timestamp: \", min(df['datetime']))\n",
        "print(\"Maximum timestamp: \", max(df['datetime']))"
      ],
      "metadata": {
        "colab": {
          "base_uri": "https://localhost:8080/"
        },
        "id": "AI031oJh2DuX",
        "outputId": "dfd58ce3-373f-47fa-addf-955ec15dee6c"
      },
      "execution_count": 23,
      "outputs": [
        {
          "output_type": "stream",
          "name": "stdout",
          "text": [
            "Minimum timestamp:  2025-03-21 19:25:54.069990873\n",
            "Maximum timestamp:  2025-03-21 19:26:47.227486849\n"
          ]
        }
      ]
    },
    {
      "cell_type": "code",
      "source": [
        "# 10 second bins\n",
        "df['bin'] = df['datetime'].dt.floor('10s')\n",
        "\n",
        "# group by 10 second bins\n",
        "grouped = df.groupby('bin')\n",
        "\n",
        "# Example: count how many entries are in each bin\n",
        "print(grouped.size().reset_index(name='count'))"
      ],
      "metadata": {
        "colab": {
          "base_uri": "https://localhost:8080/"
        },
        "id": "ASAAP_Qo0lmo",
        "outputId": "5714e247-aff5-4bf4-9067-373dce71246f"
      },
      "execution_count": 21,
      "outputs": [
        {
          "output_type": "stream",
          "name": "stdout",
          "text": [
            "                  bin  count\n",
            "0 2025-03-21 19:25:50   1981\n",
            "1 2025-03-21 19:26:00   3895\n",
            "2 2025-03-21 19:26:10   2461\n",
            "3 2025-03-21 19:26:20   2162\n",
            "4 2025-03-21 19:26:30   2255\n",
            "5 2025-03-21 19:26:40   1621\n"
          ]
        }
      ]
    },
    {
      "cell_type": "code",
      "source": [
        "# Puffer dataset for videos sent\n",
        "PUFFER_FILE = \"/content/CS293NProject/puffer_6M_profile_on50_13/video_sent.1.log\"\n",
        "columns =['epoch', 'channel', 'session_id', 'stream_id', 'user_id', 'stream_id1', 'stream_id2',\n",
        "              'video_ts', 'format', 'size', 'ssim', 'cwnd', 'in_flight', 'rtt',\n",
        "              'send_time', 'acked_time', 'buffer', 'cum_rebuf', 'uuid', 'thing']\n",
        "puffer_df = pd.read_csv(PUFFER_FILE, names=columns, sep = \",\")\n",
        "\n"
      ],
      "metadata": {
        "id": "CIuJJnDV2cMx"
      },
      "execution_count": 43,
      "outputs": []
    },
    {
      "cell_type": "code",
      "source": [
        "puffer_df['timestamp'] = pd.to_datetime(df['epoch'], unit='s', errors='coerce')\n",
        "display(puffer_df.head())\n"
      ],
      "metadata": {
        "colab": {
          "base_uri": "https://localhost:8080/",
          "height": 342
        },
        "id": "WZk4lwO5Cxo3",
        "outputId": "741f7426-872f-4e40-c47d-12a302910c7c"
      },
      "execution_count": 45,
      "outputs": [
        {
          "output_type": "display_data",
          "data": {
            "text/plain": [
              "           epoch channel  session_id  stream_id user_id  stream_id1  \\\n",
              "0  1742585156096     cbs           1         11  jaber1   792847205   \n",
              "1  1742585156307     cbs           1         11  jaber1   792847205   \n",
              "2  1742585156680     cbs           1         11  jaber1   792847205   \n",
              "3  1742585157125     cbs           1         11  jaber1   792847205   \n",
              "4  1742585157936     cbs           1         11  jaber1   792847205   \n",
              "\n",
              "   stream_id2  video_ts        format    size  ...  cwnd  in_flight    rtt  \\\n",
              "0   792847205         0    426x240-26   30382  ...    11          0  79808   \n",
              "1   792847205    180180   1280x720-22  185089  ...    49          0    332   \n",
              "2   792847205    360360   1280x720-22  280527  ...    26          0    332   \n",
              "3   792847205    540540  1920x1080-24  457180  ...    10         10    332   \n",
              "4   792847205    720720  1920x1080-24  391182  ...    12          0    332   \n",
              "\n",
              "   send_time  acked_time  buffer  cum_rebuf                              uuid  \\\n",
              "0     179450       17767   0.000      0.000  1IkXIOwbDZkJLCxsRdSsZ7a6uQWuqssK   \n",
              "1      45049      716825   2.002      0.000  1IkXIOwbDZkJLCxsRdSsZ7a6uQWuqssK   \n",
              "2     111341      566825   3.660      0.169  1IkXIOwbDZkJLCxsRdSsZ7a6uQWuqssK   \n",
              "3      21913      589212   5.225      0.169  1IkXIOwbDZkJLCxsRdSsZ7a6uQWuqssK   \n",
              "4      20857      561361   6.417      0.169  1IkXIOwbDZkJLCxsRdSsZ7a6uQWuqssK   \n",
              "\n",
              "  thing                     timestamp  \n",
              "0   NaN 2025-03-21 19:25:54.069990873  \n",
              "1   NaN 2025-03-21 19:25:54.080837965  \n",
              "2   NaN 2025-03-21 19:25:54.081504107  \n",
              "3   NaN 2025-03-21 19:25:54.082763910  \n",
              "4   NaN 2025-03-21 19:25:54.082923174  \n",
              "\n",
              "[5 rows x 21 columns]"
            ],
            "text/html": [
              "\n",
              "  <div id=\"df-a6f282a4-d0c1-453c-adc0-3405e8eb03f2\" class=\"colab-df-container\">\n",
              "    <div>\n",
              "<style scoped>\n",
              "    .dataframe tbody tr th:only-of-type {\n",
              "        vertical-align: middle;\n",
              "    }\n",
              "\n",
              "    .dataframe tbody tr th {\n",
              "        vertical-align: top;\n",
              "    }\n",
              "\n",
              "    .dataframe thead th {\n",
              "        text-align: right;\n",
              "    }\n",
              "</style>\n",
              "<table border=\"1\" class=\"dataframe\">\n",
              "  <thead>\n",
              "    <tr style=\"text-align: right;\">\n",
              "      <th></th>\n",
              "      <th>epoch</th>\n",
              "      <th>channel</th>\n",
              "      <th>session_id</th>\n",
              "      <th>stream_id</th>\n",
              "      <th>user_id</th>\n",
              "      <th>stream_id1</th>\n",
              "      <th>stream_id2</th>\n",
              "      <th>video_ts</th>\n",
              "      <th>format</th>\n",
              "      <th>size</th>\n",
              "      <th>...</th>\n",
              "      <th>cwnd</th>\n",
              "      <th>in_flight</th>\n",
              "      <th>rtt</th>\n",
              "      <th>send_time</th>\n",
              "      <th>acked_time</th>\n",
              "      <th>buffer</th>\n",
              "      <th>cum_rebuf</th>\n",
              "      <th>uuid</th>\n",
              "      <th>thing</th>\n",
              "      <th>timestamp</th>\n",
              "    </tr>\n",
              "  </thead>\n",
              "  <tbody>\n",
              "    <tr>\n",
              "      <th>0</th>\n",
              "      <td>1742585156096</td>\n",
              "      <td>cbs</td>\n",
              "      <td>1</td>\n",
              "      <td>11</td>\n",
              "      <td>jaber1</td>\n",
              "      <td>792847205</td>\n",
              "      <td>792847205</td>\n",
              "      <td>0</td>\n",
              "      <td>426x240-26</td>\n",
              "      <td>30382</td>\n",
              "      <td>...</td>\n",
              "      <td>11</td>\n",
              "      <td>0</td>\n",
              "      <td>79808</td>\n",
              "      <td>179450</td>\n",
              "      <td>17767</td>\n",
              "      <td>0.000</td>\n",
              "      <td>0.000</td>\n",
              "      <td>1IkXIOwbDZkJLCxsRdSsZ7a6uQWuqssK</td>\n",
              "      <td>NaN</td>\n",
              "      <td>2025-03-21 19:25:54.069990873</td>\n",
              "    </tr>\n",
              "    <tr>\n",
              "      <th>1</th>\n",
              "      <td>1742585156307</td>\n",
              "      <td>cbs</td>\n",
              "      <td>1</td>\n",
              "      <td>11</td>\n",
              "      <td>jaber1</td>\n",
              "      <td>792847205</td>\n",
              "      <td>792847205</td>\n",
              "      <td>180180</td>\n",
              "      <td>1280x720-22</td>\n",
              "      <td>185089</td>\n",
              "      <td>...</td>\n",
              "      <td>49</td>\n",
              "      <td>0</td>\n",
              "      <td>332</td>\n",
              "      <td>45049</td>\n",
              "      <td>716825</td>\n",
              "      <td>2.002</td>\n",
              "      <td>0.000</td>\n",
              "      <td>1IkXIOwbDZkJLCxsRdSsZ7a6uQWuqssK</td>\n",
              "      <td>NaN</td>\n",
              "      <td>2025-03-21 19:25:54.080837965</td>\n",
              "    </tr>\n",
              "    <tr>\n",
              "      <th>2</th>\n",
              "      <td>1742585156680</td>\n",
              "      <td>cbs</td>\n",
              "      <td>1</td>\n",
              "      <td>11</td>\n",
              "      <td>jaber1</td>\n",
              "      <td>792847205</td>\n",
              "      <td>792847205</td>\n",
              "      <td>360360</td>\n",
              "      <td>1280x720-22</td>\n",
              "      <td>280527</td>\n",
              "      <td>...</td>\n",
              "      <td>26</td>\n",
              "      <td>0</td>\n",
              "      <td>332</td>\n",
              "      <td>111341</td>\n",
              "      <td>566825</td>\n",
              "      <td>3.660</td>\n",
              "      <td>0.169</td>\n",
              "      <td>1IkXIOwbDZkJLCxsRdSsZ7a6uQWuqssK</td>\n",
              "      <td>NaN</td>\n",
              "      <td>2025-03-21 19:25:54.081504107</td>\n",
              "    </tr>\n",
              "    <tr>\n",
              "      <th>3</th>\n",
              "      <td>1742585157125</td>\n",
              "      <td>cbs</td>\n",
              "      <td>1</td>\n",
              "      <td>11</td>\n",
              "      <td>jaber1</td>\n",
              "      <td>792847205</td>\n",
              "      <td>792847205</td>\n",
              "      <td>540540</td>\n",
              "      <td>1920x1080-24</td>\n",
              "      <td>457180</td>\n",
              "      <td>...</td>\n",
              "      <td>10</td>\n",
              "      <td>10</td>\n",
              "      <td>332</td>\n",
              "      <td>21913</td>\n",
              "      <td>589212</td>\n",
              "      <td>5.225</td>\n",
              "      <td>0.169</td>\n",
              "      <td>1IkXIOwbDZkJLCxsRdSsZ7a6uQWuqssK</td>\n",
              "      <td>NaN</td>\n",
              "      <td>2025-03-21 19:25:54.082763910</td>\n",
              "    </tr>\n",
              "    <tr>\n",
              "      <th>4</th>\n",
              "      <td>1742585157936</td>\n",
              "      <td>cbs</td>\n",
              "      <td>1</td>\n",
              "      <td>11</td>\n",
              "      <td>jaber1</td>\n",
              "      <td>792847205</td>\n",
              "      <td>792847205</td>\n",
              "      <td>720720</td>\n",
              "      <td>1920x1080-24</td>\n",
              "      <td>391182</td>\n",
              "      <td>...</td>\n",
              "      <td>12</td>\n",
              "      <td>0</td>\n",
              "      <td>332</td>\n",
              "      <td>20857</td>\n",
              "      <td>561361</td>\n",
              "      <td>6.417</td>\n",
              "      <td>0.169</td>\n",
              "      <td>1IkXIOwbDZkJLCxsRdSsZ7a6uQWuqssK</td>\n",
              "      <td>NaN</td>\n",
              "      <td>2025-03-21 19:25:54.082923174</td>\n",
              "    </tr>\n",
              "  </tbody>\n",
              "</table>\n",
              "<p>5 rows × 21 columns</p>\n",
              "</div>\n",
              "    <div class=\"colab-df-buttons\">\n",
              "\n",
              "  <div class=\"colab-df-container\">\n",
              "    <button class=\"colab-df-convert\" onclick=\"convertToInteractive('df-a6f282a4-d0c1-453c-adc0-3405e8eb03f2')\"\n",
              "            title=\"Convert this dataframe to an interactive table.\"\n",
              "            style=\"display:none;\">\n",
              "\n",
              "  <svg xmlns=\"http://www.w3.org/2000/svg\" height=\"24px\" viewBox=\"0 -960 960 960\">\n",
              "    <path d=\"M120-120v-720h720v720H120Zm60-500h600v-160H180v160Zm220 220h160v-160H400v160Zm0 220h160v-160H400v160ZM180-400h160v-160H180v160Zm440 0h160v-160H620v160ZM180-180h160v-160H180v160Zm440 0h160v-160H620v160Z\"/>\n",
              "  </svg>\n",
              "    </button>\n",
              "\n",
              "  <style>\n",
              "    .colab-df-container {\n",
              "      display:flex;\n",
              "      gap: 12px;\n",
              "    }\n",
              "\n",
              "    .colab-df-convert {\n",
              "      background-color: #E8F0FE;\n",
              "      border: none;\n",
              "      border-radius: 50%;\n",
              "      cursor: pointer;\n",
              "      display: none;\n",
              "      fill: #1967D2;\n",
              "      height: 32px;\n",
              "      padding: 0 0 0 0;\n",
              "      width: 32px;\n",
              "    }\n",
              "\n",
              "    .colab-df-convert:hover {\n",
              "      background-color: #E2EBFA;\n",
              "      box-shadow: 0px 1px 2px rgba(60, 64, 67, 0.3), 0px 1px 3px 1px rgba(60, 64, 67, 0.15);\n",
              "      fill: #174EA6;\n",
              "    }\n",
              "\n",
              "    .colab-df-buttons div {\n",
              "      margin-bottom: 4px;\n",
              "    }\n",
              "\n",
              "    [theme=dark] .colab-df-convert {\n",
              "      background-color: #3B4455;\n",
              "      fill: #D2E3FC;\n",
              "    }\n",
              "\n",
              "    [theme=dark] .colab-df-convert:hover {\n",
              "      background-color: #434B5C;\n",
              "      box-shadow: 0px 1px 3px 1px rgba(0, 0, 0, 0.15);\n",
              "      filter: drop-shadow(0px 1px 2px rgba(0, 0, 0, 0.3));\n",
              "      fill: #FFFFFF;\n",
              "    }\n",
              "  </style>\n",
              "\n",
              "    <script>\n",
              "      const buttonEl =\n",
              "        document.querySelector('#df-a6f282a4-d0c1-453c-adc0-3405e8eb03f2 button.colab-df-convert');\n",
              "      buttonEl.style.display =\n",
              "        google.colab.kernel.accessAllowed ? 'block' : 'none';\n",
              "\n",
              "      async function convertToInteractive(key) {\n",
              "        const element = document.querySelector('#df-a6f282a4-d0c1-453c-adc0-3405e8eb03f2');\n",
              "        const dataTable =\n",
              "          await google.colab.kernel.invokeFunction('convertToInteractive',\n",
              "                                                    [key], {});\n",
              "        if (!dataTable) return;\n",
              "\n",
              "        const docLinkHtml = 'Like what you see? Visit the ' +\n",
              "          '<a target=\"_blank\" href=https://colab.research.google.com/notebooks/data_table.ipynb>data table notebook</a>'\n",
              "          + ' to learn more about interactive tables.';\n",
              "        element.innerHTML = '';\n",
              "        dataTable['output_type'] = 'display_data';\n",
              "        await google.colab.output.renderOutput(dataTable, element);\n",
              "        const docLink = document.createElement('div');\n",
              "        docLink.innerHTML = docLinkHtml;\n",
              "        element.appendChild(docLink);\n",
              "      }\n",
              "    </script>\n",
              "  </div>\n",
              "\n",
              "\n",
              "    <div id=\"df-e619faa9-e9df-4992-9513-4d7c38275f62\">\n",
              "      <button class=\"colab-df-quickchart\" onclick=\"quickchart('df-e619faa9-e9df-4992-9513-4d7c38275f62')\"\n",
              "                title=\"Suggest charts\"\n",
              "                style=\"display:none;\">\n",
              "\n",
              "<svg xmlns=\"http://www.w3.org/2000/svg\" height=\"24px\"viewBox=\"0 0 24 24\"\n",
              "     width=\"24px\">\n",
              "    <g>\n",
              "        <path d=\"M19 3H5c-1.1 0-2 .9-2 2v14c0 1.1.9 2 2 2h14c1.1 0 2-.9 2-2V5c0-1.1-.9-2-2-2zM9 17H7v-7h2v7zm4 0h-2V7h2v10zm4 0h-2v-4h2v4z\"/>\n",
              "    </g>\n",
              "</svg>\n",
              "      </button>\n",
              "\n",
              "<style>\n",
              "  .colab-df-quickchart {\n",
              "      --bg-color: #E8F0FE;\n",
              "      --fill-color: #1967D2;\n",
              "      --hover-bg-color: #E2EBFA;\n",
              "      --hover-fill-color: #174EA6;\n",
              "      --disabled-fill-color: #AAA;\n",
              "      --disabled-bg-color: #DDD;\n",
              "  }\n",
              "\n",
              "  [theme=dark] .colab-df-quickchart {\n",
              "      --bg-color: #3B4455;\n",
              "      --fill-color: #D2E3FC;\n",
              "      --hover-bg-color: #434B5C;\n",
              "      --hover-fill-color: #FFFFFF;\n",
              "      --disabled-bg-color: #3B4455;\n",
              "      --disabled-fill-color: #666;\n",
              "  }\n",
              "\n",
              "  .colab-df-quickchart {\n",
              "    background-color: var(--bg-color);\n",
              "    border: none;\n",
              "    border-radius: 50%;\n",
              "    cursor: pointer;\n",
              "    display: none;\n",
              "    fill: var(--fill-color);\n",
              "    height: 32px;\n",
              "    padding: 0;\n",
              "    width: 32px;\n",
              "  }\n",
              "\n",
              "  .colab-df-quickchart:hover {\n",
              "    background-color: var(--hover-bg-color);\n",
              "    box-shadow: 0 1px 2px rgba(60, 64, 67, 0.3), 0 1px 3px 1px rgba(60, 64, 67, 0.15);\n",
              "    fill: var(--button-hover-fill-color);\n",
              "  }\n",
              "\n",
              "  .colab-df-quickchart-complete:disabled,\n",
              "  .colab-df-quickchart-complete:disabled:hover {\n",
              "    background-color: var(--disabled-bg-color);\n",
              "    fill: var(--disabled-fill-color);\n",
              "    box-shadow: none;\n",
              "  }\n",
              "\n",
              "  .colab-df-spinner {\n",
              "    border: 2px solid var(--fill-color);\n",
              "    border-color: transparent;\n",
              "    border-bottom-color: var(--fill-color);\n",
              "    animation:\n",
              "      spin 1s steps(1) infinite;\n",
              "  }\n",
              "\n",
              "  @keyframes spin {\n",
              "    0% {\n",
              "      border-color: transparent;\n",
              "      border-bottom-color: var(--fill-color);\n",
              "      border-left-color: var(--fill-color);\n",
              "    }\n",
              "    20% {\n",
              "      border-color: transparent;\n",
              "      border-left-color: var(--fill-color);\n",
              "      border-top-color: var(--fill-color);\n",
              "    }\n",
              "    30% {\n",
              "      border-color: transparent;\n",
              "      border-left-color: var(--fill-color);\n",
              "      border-top-color: var(--fill-color);\n",
              "      border-right-color: var(--fill-color);\n",
              "    }\n",
              "    40% {\n",
              "      border-color: transparent;\n",
              "      border-right-color: var(--fill-color);\n",
              "      border-top-color: var(--fill-color);\n",
              "    }\n",
              "    60% {\n",
              "      border-color: transparent;\n",
              "      border-right-color: var(--fill-color);\n",
              "    }\n",
              "    80% {\n",
              "      border-color: transparent;\n",
              "      border-right-color: var(--fill-color);\n",
              "      border-bottom-color: var(--fill-color);\n",
              "    }\n",
              "    90% {\n",
              "      border-color: transparent;\n",
              "      border-bottom-color: var(--fill-color);\n",
              "    }\n",
              "  }\n",
              "</style>\n",
              "\n",
              "      <script>\n",
              "        async function quickchart(key) {\n",
              "          const quickchartButtonEl =\n",
              "            document.querySelector('#' + key + ' button');\n",
              "          quickchartButtonEl.disabled = true;  // To prevent multiple clicks.\n",
              "          quickchartButtonEl.classList.add('colab-df-spinner');\n",
              "          try {\n",
              "            const charts = await google.colab.kernel.invokeFunction(\n",
              "                'suggestCharts', [key], {});\n",
              "          } catch (error) {\n",
              "            console.error('Error during call to suggestCharts:', error);\n",
              "          }\n",
              "          quickchartButtonEl.classList.remove('colab-df-spinner');\n",
              "          quickchartButtonEl.classList.add('colab-df-quickchart-complete');\n",
              "        }\n",
              "        (() => {\n",
              "          let quickchartButtonEl =\n",
              "            document.querySelector('#df-e619faa9-e9df-4992-9513-4d7c38275f62 button');\n",
              "          quickchartButtonEl.style.display =\n",
              "            google.colab.kernel.accessAllowed ? 'block' : 'none';\n",
              "        })();\n",
              "      </script>\n",
              "    </div>\n",
              "\n",
              "    </div>\n",
              "  </div>\n"
            ],
            "application/vnd.google.colaboratory.intrinsic+json": {
              "type": "dataframe"
            }
          },
          "metadata": {}
        }
      ]
    },
    {
      "cell_type": "code",
      "source": [
        "# 10 second bins\n",
        "puffer_df['bin'] = puffer_df['timestamp'].dt.floor('10s')\n",
        "\n",
        "# group by 10 second bins\n",
        "grouped = puffer_df.groupby('bin')\n",
        "\n",
        "# Example: count how many entries are in each bin\n",
        "print(grouped.size().reset_index(name='count'))"
      ],
      "metadata": {
        "colab": {
          "base_uri": "https://localhost:8080/"
        },
        "id": "HfdswnSgYnq8",
        "outputId": "879e0da5-076d-42b9-93c8-557fdeeb426c"
      },
      "execution_count": 46,
      "outputs": [
        {
          "output_type": "stream",
          "name": "stdout",
          "text": [
            "                  bin  count\n",
            "0 2025-03-21 19:25:50     33\n"
          ]
        }
      ]
    }
  ]
}