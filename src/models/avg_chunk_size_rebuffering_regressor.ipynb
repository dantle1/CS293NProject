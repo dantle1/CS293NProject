{
  "nbformat": 4,
  "nbformat_minor": 0,
  "metadata": {
    "colab": {
      "provenance": []
    },
    "kernelspec": {
      "name": "python3",
      "display_name": "Python 3"
    },
    "language_info": {
      "name": "python"
    }
  },
  "cells": [
    {
      "cell_type": "code",
      "execution_count": 1,
      "metadata": {
        "colab": {
          "base_uri": "https://localhost:8080/"
        },
        "id": "8EP1LpOwhenL",
        "outputId": "6abd6292-42a9-4d6c-d8ab-ef0dcb82a095"
      },
      "outputs": [
        {
          "output_type": "stream",
          "name": "stdout",
          "text": [
            "Requirement already satisfied: gdown in /usr/local/lib/python3.11/dist-packages (5.2.0)\n",
            "Requirement already satisfied: scikit-learn in /usr/local/lib/python3.11/dist-packages (1.6.1)\n",
            "Requirement already satisfied: pandas in /usr/local/lib/python3.11/dist-packages (2.2.2)\n",
            "Requirement already satisfied: beautifulsoup4 in /usr/local/lib/python3.11/dist-packages (from gdown) (4.13.4)\n",
            "Requirement already satisfied: filelock in /usr/local/lib/python3.11/dist-packages (from gdown) (3.18.0)\n",
            "Requirement already satisfied: requests[socks] in /usr/local/lib/python3.11/dist-packages (from gdown) (2.32.3)\n",
            "Requirement already satisfied: tqdm in /usr/local/lib/python3.11/dist-packages (from gdown) (4.67.1)\n",
            "Requirement already satisfied: numpy>=1.19.5 in /usr/local/lib/python3.11/dist-packages (from scikit-learn) (2.0.2)\n",
            "Requirement already satisfied: scipy>=1.6.0 in /usr/local/lib/python3.11/dist-packages (from scikit-learn) (1.15.3)\n",
            "Requirement already satisfied: joblib>=1.2.0 in /usr/local/lib/python3.11/dist-packages (from scikit-learn) (1.5.0)\n",
            "Requirement already satisfied: threadpoolctl>=3.1.0 in /usr/local/lib/python3.11/dist-packages (from scikit-learn) (3.6.0)\n",
            "Requirement already satisfied: python-dateutil>=2.8.2 in /usr/local/lib/python3.11/dist-packages (from pandas) (2.9.0.post0)\n",
            "Requirement already satisfied: pytz>=2020.1 in /usr/local/lib/python3.11/dist-packages (from pandas) (2025.2)\n",
            "Requirement already satisfied: tzdata>=2022.7 in /usr/local/lib/python3.11/dist-packages (from pandas) (2025.2)\n",
            "Requirement already satisfied: six>=1.5 in /usr/local/lib/python3.11/dist-packages (from python-dateutil>=2.8.2->pandas) (1.17.0)\n",
            "Requirement already satisfied: soupsieve>1.2 in /usr/local/lib/python3.11/dist-packages (from beautifulsoup4->gdown) (2.7)\n",
            "Requirement already satisfied: typing-extensions>=4.0.0 in /usr/local/lib/python3.11/dist-packages (from beautifulsoup4->gdown) (4.13.2)\n",
            "Requirement already satisfied: charset-normalizer<4,>=2 in /usr/local/lib/python3.11/dist-packages (from requests[socks]->gdown) (3.4.2)\n",
            "Requirement already satisfied: idna<4,>=2.5 in /usr/local/lib/python3.11/dist-packages (from requests[socks]->gdown) (3.10)\n",
            "Requirement already satisfied: urllib3<3,>=1.21.1 in /usr/local/lib/python3.11/dist-packages (from requests[socks]->gdown) (2.4.0)\n",
            "Requirement already satisfied: certifi>=2017.4.17 in /usr/local/lib/python3.11/dist-packages (from requests[socks]->gdown) (2025.4.26)\n",
            "Requirement already satisfied: PySocks!=1.5.7,>=1.5.6 in /usr/local/lib/python3.11/dist-packages (from requests[socks]->gdown) (1.7.1)\n"
          ]
        }
      ],
      "source": [
        "# Install Dependencies\n",
        "!pip install gdown scikit-learn pandas\n",
        "\n",
        "import gdown\n",
        "import numpy as np\n",
        "import pandas as pd\n",
        "from sklearn.ensemble import RandomForestRegressor\n",
        "from sklearn.model_selection import train_test_split\n",
        "from sklearn.metrics import mean_squared_error\n",
        "from sklearn.linear_model import LogisticRegression\n",
        "from sklearn.metrics import classification_report, accuracy_score"
      ]
    },
    {
      "cell_type": "code",
      "source": [
        "# Download Preprocessed Data\n",
        "\n",
        "url = 'https://drive.google.com/uc?id=1nUNgJzVOyKywhGODfwN5TfpSGFJE1OTG'\n",
        "output = 'modeling_dataset.csv'\n",
        "gdown.download(url, output, quiet=False)\n",
        "\n",
        "df = pd.read_csv('modeling_dataset.csv')\n",
        "print(\"✅ Loaded:\", df.shape)"
      ],
      "metadata": {
        "colab": {
          "base_uri": "https://localhost:8080/"
        },
        "id": "3AZ4Tqk7hpvw",
        "outputId": "ad74caf0-d26e-473f-b3ca-13e1a8b0199d"
      },
      "execution_count": 2,
      "outputs": [
        {
          "output_type": "stream",
          "name": "stderr",
          "text": [
            "Downloading...\n",
            "From: https://drive.google.com/uc?id=1nUNgJzVOyKywhGODfwN5TfpSGFJE1OTG\n",
            "To: /content/modeling_dataset.csv\n",
            "100%|██████████| 318k/318k [00:00<00:00, 69.0MB/s]"
          ]
        },
        {
          "output_type": "stream",
          "name": "stdout",
          "text": [
            "✅ Loaded: (2176, 10)\n"
          ]
        },
        {
          "output_type": "stream",
          "name": "stderr",
          "text": [
            "\n"
          ]
        }
      ]
    },
    {
      "cell_type": "code",
      "source": [
        "# ***Regression Model for avg_chunk_size***\n",
        "features = [\n",
        "    'packet_count',\n",
        "    'total_bytes',\n",
        "    'avg_packet_size',\n",
        "    'avg_inter_packet_delay',\n",
        "    'std_inter_packet_delay'\n",
        "]\n",
        "\n",
        "X = df[features].fillna(0)\n",
        "\n",
        "y_reg = df['avg_chunk_size']\n",
        "X_train_r, X_test_r, y_train_r, y_test_r = train_test_split(X, y_reg, test_size=0.2, random_state=42)\n",
        "\n",
        "regressor = RandomForestRegressor(n_estimators=100, random_state=42)\n",
        "regressor.fit(X_train_r, y_train_r)\n",
        "y_pred_r = regressor.predict(X_test_r)\n",
        "\n",
        "mse = mean_squared_error(y_test_r, y_pred_r)\n",
        "print(f\"avg_chunk_size Regressor MSE: {mse:.2f}\")\n",
        "\n",
        "byte_error = np.sqrt(mse)\n",
        "print(f\"avg_chunk_size Regressor Byte Error: {byte_error:.2f}\")"
      ],
      "metadata": {
        "colab": {
          "base_uri": "https://localhost:8080/"
        },
        "id": "dC-zForshthZ",
        "outputId": "d2086513-677f-4765-8f27-f4bc9979aeb6"
      },
      "execution_count": 3,
      "outputs": [
        {
          "output_type": "stream",
          "name": "stdout",
          "text": [
            "avg_chunk_size Regressor MSE: 8463596353.75\n",
            "avg_chunk_size Regressor Byte Error: 91997.81\n"
          ]
        }
      ]
    },
    {
      "cell_type": "code",
      "source": [
        "# ***Classification Model for Rebuffering (chunk count unexpectedly drops)\n",
        "\n",
        "# Define rebuffering as chunk_count < 8\n",
        "# If predicted fewer than 8 chunks were used, this implies rebuffeirng occured!\n",
        "#\n",
        "#\n",
        "df['rebuffered'] = (df['chunk_count'] < 8).astype(int)\n",
        "y_clf = df['rebuffered']\n",
        "\n",
        "X_train_c, X_test_c, y_train_c, y_test_c = train_test_split(X, y_clf, test_size=0.2, random_state=42)\n",
        "\n",
        "classifier = LogisticRegression(max_iter=500)\n",
        "classifier.fit(X_train_c, y_train_c)\n",
        "y_pred_c = classifier.predict(X_test_c)\n",
        "\n",
        "acc = accuracy_score(y_test_c, y_pred_c)\n",
        "report = classification_report(y_test_c, y_pred_c)\n",
        "\n",
        "print(f\"\\nRebuffering Classifier Accuracy: {acc:.2f}\")\n",
        "print(\"Classification Report:\\n\", report)"
      ],
      "metadata": {
        "colab": {
          "base_uri": "https://localhost:8080/"
        },
        "id": "2siaMU9-htj-",
        "outputId": "0e5142e3-e68d-4527-f85c-161634832743"
      },
      "execution_count": 4,
      "outputs": [
        {
          "output_type": "stream",
          "name": "stdout",
          "text": [
            "\n",
            "Rebuffering Classifier Accuracy: 0.91\n",
            "Classification Report:\n",
            "               precision    recall  f1-score   support\n",
            "\n",
            "           0       0.93      0.96      0.94       348\n",
            "           1       0.81      0.69      0.75        88\n",
            "\n",
            "    accuracy                           0.91       436\n",
            "   macro avg       0.87      0.83      0.85       436\n",
            "weighted avg       0.90      0.91      0.90       436\n",
            "\n"
          ]
        }
      ]
    },
    {
      "cell_type": "code",
      "source": [],
      "metadata": {
        "id": "hCKdyQ0Hhtmk"
      },
      "execution_count": null,
      "outputs": []
    }
  ]
}